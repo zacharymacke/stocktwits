{
 "cells": [
  {
   "cell_type": "code",
   "execution_count": 1,
   "metadata": {},
   "outputs": [],
   "source": [
    "import numpy as np\n",
    "import pandas as pd\n",
    "import requests\n",
    "import pickle\n",
    "import operator\n",
    "import time\n"
   ]
  },
  {
   "cell_type": "code",
   "execution_count": 2,
   "metadata": {},
   "outputs": [],
   "source": [
    "def load_dict():\n",
    "    file = open('stock_dict.pickle', 'rb')\n",
    "    data = pickle.load(file)\n",
    "    file.close()\n",
    "    return data\n",
    "\n",
    "def load_set():\n",
    "    file = open('stock_set.pickle','rb')\n",
    "    data = pickle.load(file)\n",
    "    file.close()\n",
    "    return data"
   ]
  },
  {
   "cell_type": "code",
   "execution_count": 3,
   "metadata": {},
   "outputs": [
    {
     "ename": "AttributeError",
     "evalue": "Can't get attribute 'Stock' on <module '__main__'>",
     "output_type": "error",
     "traceback": [
      "\u001b[0;31m---------------------------------------------------------------------------\u001b[0m",
      "\u001b[0;31mAttributeError\u001b[0m                            Traceback (most recent call last)",
      "\u001b[0;32m<ipython-input-3-bc3f708549cc>\u001b[0m in \u001b[0;36m<module>\u001b[0;34m()\u001b[0m\n\u001b[1;32m      1\u001b[0m \u001b[0mticker_set\u001b[0m \u001b[0;34m=\u001b[0m \u001b[0mload_set\u001b[0m\u001b[0;34m(\u001b[0m\u001b[0;34m)\u001b[0m\u001b[0;34m\u001b[0m\u001b[0m\n\u001b[0;32m----> 2\u001b[0;31m \u001b[0mstock_data\u001b[0m \u001b[0;34m=\u001b[0m \u001b[0mload_dict\u001b[0m\u001b[0;34m(\u001b[0m\u001b[0;34m)\u001b[0m\u001b[0;34m\u001b[0m\u001b[0m\n\u001b[0m",
      "\u001b[0;32m<ipython-input-2-70b0b8243d48>\u001b[0m in \u001b[0;36mload_dict\u001b[0;34m()\u001b[0m\n\u001b[1;32m      1\u001b[0m \u001b[0;32mdef\u001b[0m \u001b[0mload_dict\u001b[0m\u001b[0;34m(\u001b[0m\u001b[0;34m)\u001b[0m\u001b[0;34m:\u001b[0m\u001b[0;34m\u001b[0m\u001b[0m\n\u001b[1;32m      2\u001b[0m     \u001b[0mfile\u001b[0m \u001b[0;34m=\u001b[0m \u001b[0mopen\u001b[0m\u001b[0;34m(\u001b[0m\u001b[0;34m'stock_dict.pickle'\u001b[0m\u001b[0;34m,\u001b[0m \u001b[0;34m'rb'\u001b[0m\u001b[0;34m)\u001b[0m\u001b[0;34m\u001b[0m\u001b[0m\n\u001b[0;32m----> 3\u001b[0;31m     \u001b[0mdata\u001b[0m \u001b[0;34m=\u001b[0m \u001b[0mpickle\u001b[0m\u001b[0;34m.\u001b[0m\u001b[0mload\u001b[0m\u001b[0;34m(\u001b[0m\u001b[0mfile\u001b[0m\u001b[0;34m)\u001b[0m\u001b[0;34m\u001b[0m\u001b[0m\n\u001b[0m\u001b[1;32m      4\u001b[0m     \u001b[0mfile\u001b[0m\u001b[0;34m.\u001b[0m\u001b[0mclose\u001b[0m\u001b[0;34m(\u001b[0m\u001b[0;34m)\u001b[0m\u001b[0;34m\u001b[0m\u001b[0m\n\u001b[1;32m      5\u001b[0m     \u001b[0;32mreturn\u001b[0m \u001b[0mdata\u001b[0m\u001b[0;34m\u001b[0m\u001b[0m\n",
      "\u001b[0;31mAttributeError\u001b[0m: Can't get attribute 'Stock' on <module '__main__'>"
     ]
    }
   ],
   "source": [
    "ticker_set = load_set()\n",
    "stock_data = load_dict()"
   ]
  },
  {
   "cell_type": "code",
   "execution_count": 17,
   "metadata": {},
   "outputs": [
    {
     "name": "stdout",
     "output_type": "stream",
     "text": [
      "    change  changeOverTime  changePercent   close       date     high   label  \\\n",
      "0   -0.648        0.000000         -6.822   8.850 2018-09-07   9.9000   Sep 7   \n",
      "1   -0.150       -0.016949         -1.695   8.700 2018-09-10   9.2940  Sep 10   \n",
      "2    0.060       -0.010169          0.690   8.760 2018-09-11   8.8500  Sep 11   \n",
      "3   -0.117       -0.023390         -1.336   8.643 2018-09-12   8.8950  Sep 12   \n",
      "4   -0.843       -0.118644         -9.754   7.800 2018-09-13   8.0387  Sep 13   \n",
      "5   -2.350       -0.384181        -30.128   5.450 2018-09-14   9.0000  Sep 14   \n",
      "6   -0.560       -0.447458        -10.275   4.890 2018-09-17   6.4799  Sep 17   \n",
      "7   -0.620       -0.517514        -12.679   4.270 2018-09-18   4.7500  Sep 18   \n",
      "8   12.190        0.859887        285.480  16.460 2018-09-19  18.3100  Sep 19   \n",
      "9    9.770        1.963842         59.356  26.230 2018-09-20  36.2500  Sep 20   \n",
      "10  -0.040        1.959322         -0.152  26.190 2018-09-21  33.6700  Sep 21   \n",
      "11 -12.290        0.570621        -46.926  13.900 2018-09-24  17.7618  Sep 24   \n",
      "12  -0.810        0.479096         -5.827  13.090 2018-09-25  14.2698  Sep 25   \n",
      "13  -0.960        0.370621         -7.334  12.130 2018-09-26  13.0100  Sep 26   \n",
      "14  -3.350       -0.007910        -27.617   8.780 2018-09-27  11.2571  Sep 27   \n",
      "15  -4.380       -0.502825        -49.886   4.400 2018-09-28   4.6700  Sep 28   \n",
      "16   0.580       -0.437288         13.182   4.980 2018-10-01   5.6400   Oct 1   \n",
      "17  -0.370       -0.479096         -7.430   4.610 2018-10-02   5.1900   Oct 2   \n",
      "18   0.140       -0.463277          3.037   4.750 2018-10-03   4.8000   Oct 3   \n",
      "19  -0.050       -0.468927         -1.053   4.700 2018-10-04   4.8200   Oct 4   \n",
      "20   2.540       -0.181921         54.043   7.240 2018-10-05   7.6000   Oct 5   \n",
      "\n",
      "        low    open  unadjustedVolume    volume     vwap  \n",
      "0    8.8500   9.900            382975     12766   9.1339  \n",
      "1    8.4000   9.294            396598     13220   8.6670  \n",
      "2    7.8000   7.953            492137     16405   8.2525  \n",
      "3    7.9500   8.700            155242      5175   8.5660  \n",
      "4    7.3500   7.500            947363     31579   7.6119  \n",
      "5    4.8007   7.300            273032    273032   6.9817  \n",
      "6    4.6600   5.620            154455    154455   5.4074  \n",
      "7    4.2700   4.720             99620     99620   4.5048  \n",
      "8    4.3400   4.340           2211096   2211096  12.4964  \n",
      "9   17.0000  19.610           2412805   2412805  27.5483  \n",
      "10  26.0000  26.900            880597    880597  29.0519  \n",
      "11  12.5701  17.020            953999    953999  14.6876  \n",
      "12  12.5500  13.950            181393    181393  13.2577  \n",
      "13  11.1200  13.010            193125    193125  11.9826  \n",
      "14   8.7500  11.170            606925    606925   9.6831  \n",
      "15   4.0700   4.500           3416308   3416308   4.4404  \n",
      "16   4.5500   4.690           2835364   2835364   5.1434  \n",
      "17   4.3000   5.190            916285    916285   4.6631  \n",
      "18   4.5000   4.520            475233    475233   4.7170  \n",
      "19   4.4900   4.820            419977    419977   4.6221  \n",
      "20   4.5685   4.670          11963598  11963598   6.0959  \n"
     ]
    }
   ],
   "source": [
    "ticker = \"ALT\"\n",
    "df_temp = pd.read_json('https://api.iextrading.com/1.0/stock/'+ticker+'/chart/1M')\n",
    "\n",
    "\n",
    "print(df_temp)\n",
    "  \n",
    "# ALT\n",
    "# TZA\n",
    "# NBEV\n",
    "# PCG\n",
    "# USDCAD\n",
    "# AAXN\n",
    "# SPX\n",
    "# TWTR"
   ]
  },
  {
   "cell_type": "code",
   "execution_count": null,
   "metadata": {},
   "outputs": [],
   "source": []
  }
 ],
 "metadata": {
  "kernelspec": {
   "display_name": "Python [conda env:env]",
   "language": "python",
   "name": "conda-env-env-py"
  },
  "language_info": {
   "codemirror_mode": {
    "name": "ipython",
    "version": 3
   },
   "file_extension": ".py",
   "mimetype": "text/x-python",
   "name": "python",
   "nbconvert_exporter": "python",
   "pygments_lexer": "ipython3",
   "version": "3.6.6"
  }
 },
 "nbformat": 4,
 "nbformat_minor": 2
}
